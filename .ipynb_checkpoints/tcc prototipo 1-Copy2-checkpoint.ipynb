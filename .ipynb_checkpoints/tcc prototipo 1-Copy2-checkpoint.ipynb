{
 "cells": [
  {
   "cell_type": "code",
   "execution_count": 1,
   "metadata": {},
   "outputs": [],
   "source": [
    "import numpy as np\n",
    "import math\n",
    "import matplotlib.pyplot as plt"
   ]
  },
  {
   "cell_type": "code",
   "execution_count": 2,
   "metadata": {},
   "outputs": [],
   "source": [
    "# operações basicas \n",
    "\n",
    "#teste baseado em fact , introdução de um numero complexo \n",
    "def dec():\n",
    "    \n",
    "    real = float(input(\" numero real \")) \n",
    "    com = float(input(\" numero complexo\"))\n",
    "    \n",
    "    #real = 4\n",
    "    #com = 4*pow(3,0.5)\n",
    "    \n",
    "    num = complex(real, com)\n",
    "    \n",
    "    print(num)\n",
    "    \n",
    "    argand(num)\n",
    "    return num\n",
    "\n",
    "# soma de numero complexo \n",
    "\n",
    "def csoma():\n",
    "    \n",
    "    num1 = dec()\n",
    "    num2 = dec()\n",
    "    \n",
    "    so = complex((num1.real+num2.real),(num1.imag + num2.imag))\n",
    "    \n",
    "    print(so)\n",
    "    \n",
    "    argand(so)\n",
    "    \n",
    "    return so\n",
    "\n",
    "# subitração de numero complexo \n",
    "\n",
    "def csubtr():\n",
    "    \n",
    "    num1 = dec()\n",
    "    num2 = dec()\n",
    "    \n",
    "    su = complex((num1.real - num2.real),(num1.imag - num2.imag))\n",
    "    \n",
    "    print(su)\n",
    "    argand(su)\n",
    "    \n",
    "    return su\n",
    "\n",
    "# mulatiplicação de numero complexo\n",
    "\n",
    "def cmulti():\n",
    "    \n",
    "    num1 = dec()\n",
    "    num2 = dec()\n",
    "    \n",
    "    m = complex((num1.real*num2.real - num1.imag*num2.imag),(num1.real*num2.imag + num1.imag*num2.real))\n",
    "    \n",
    "    print(m)\n",
    "    argand(m)\n",
    "    \n",
    "    return m\n",
    "\n",
    "#divição de numero complexo\n",
    "\n",
    "def cdiv():\n",
    "    \n",
    "    num1 = dec()\n",
    "    num2 = dec()\n",
    "    \n",
    "    d = complex((num1.real*num2.real + num1.imag*num2.imag)/(num1.real**2+num1.imag**2),(num1.real*num2.imag + num1.imag*num2.real)/(num1.real**2+num1.imag**2))\n",
    "    \n",
    "    print(d)\n",
    "    argand(d) \n",
    "    \n",
    "    return d\n",
    "\n",
    "# modulo do numero complexo \n",
    "\n",
    "def  modu(num):\n",
    "          \n",
    "    num_c = num\n",
    "       \n",
    "    modulo = math.sqrt((num_c.real**2 + num_c.imag**2))\n",
    "        \n",
    "    return modulo , num_c\n",
    "\n"
   ]
  },
  {
   "cell_type": "code",
   "execution_count": 3,
   "metadata": {
    "scrolled": true
   },
   "outputs": [
    {
     "data": {
      "text/plain": [
       "\"def argand_polar(a):\\n    \\n    \\n    modulo = [a[0] , 0]\\n    teta = [a[1] , 0 ]\\n\\n    \\n    print(type(teta))\\n    \\n    \\n    #quando a tem mais de um complexo\\n     #for x in a:\\n     #plt.polar([0,angle(x)],[0,abs(x)],marker='o')\\n        \\n    ax = plt.subplots(subplot_kw={'projection': 'polar'})\\n    ax.plot([0,teta],[0,modulo],marker='o')\\n    ax.set_rmax(2*modulo)\\n    ax.set_rticks([0.5, 1, 1.5, 2])  # Less radial ticks\\n    ax.set_rlabel_position(-22.5)  # Move radial labels away from plotted line\\n    ax.grid(True)\\n    plt.show()\\n    \\n    return\\n\\nb = polar()\\nargand_polar(b) \\n\""
      ]
     },
     "execution_count": 3,
     "metadata": {},
     "output_type": "execute_result"
    }
   ],
   "source": [
    "# area de plot\n",
    "def argand(a):\n",
    "    a = 1*a.real + 1j*a.imag  ,\n",
    "    \n",
    "    #quando a tem mais de um complexo\n",
    "    #for x in range(len(a)):\n",
    "      #  plt.plot([0,a[x].real],[0,a[x].imag],'ro-',label='python')\n",
    "        \n",
    "    plt.plot([0,a[0].real],[0,a[0].imag],'ro-',label='python')    \n",
    "    limit=np.max(np.ceil(np.absolute(a))) # set limits for axis\n",
    "    plt.xlim((-limit,limit))\n",
    "    plt.ylim((-limit,limit))\n",
    "    plt.ylabel('Imaginary')\n",
    "    plt.xlabel('Real')\n",
    "    plt.grid(True)\n",
    "    plt.show()\n",
    "    \n",
    "    return\n",
    "\n",
    "'''def argand_polar(a):\n",
    "    \n",
    "    \n",
    "    modulo = [a[0] , 0]\n",
    "    teta = [a[1] , 0 ]\n",
    "\n",
    "    \n",
    "    print(type(teta))\n",
    "    \n",
    "    \n",
    "    #quando a tem mais de um complexo\n",
    "     #for x in a:\n",
    "     #plt.polar([0,angle(x)],[0,abs(x)],marker='o')\n",
    "        \n",
    "    ax = plt.subplots(subplot_kw={'projection': 'polar'})\n",
    "    ax.plot([0,teta],[0,modulo],marker='o')\n",
    "    ax.set_rmax(2*modulo)\n",
    "    ax.set_rticks([0.5, 1, 1.5, 2])  # Less radial ticks\n",
    "    ax.set_rlabel_position(-22.5)  # Move radial labels away from plotted line\n",
    "    ax.grid(True)\n",
    "    plt.show()\n",
    "    \n",
    "    return\n",
    "\n",
    "b = polar()\n",
    "argand_polar(b) \n",
    "'''"
   ]
  },
  {
   "cell_type": "code",
   "execution_count": 12,
   "metadata": {
    "scrolled": true
   },
   "outputs": [
    {
     "name": "stdout",
     "output_type": "stream",
     "text": [
      " numero real 3\n",
      " numero complexo5\n",
      "(3+5j)\n"
     ]
    },
    {
     "data": {
      "image/png": "[encoded data removed]",
      "text/plain": [
       "<Figure size 432x288 with 1 Axes>"
      ]
     },
     "metadata": {
      "needs_background": "light"
     },
     "output_type": "display_data"
    },
    {
     "name": "stdout",
     "output_type": "stream",
     "text": [
      "esta no primeiro quadrante\n",
      "3.0 5.0 5.830951894845301 59.03624346792648\n",
      "a formula polar é: ( 5.830951894845301  ,  59.03624346792648 )\n",
      "numero da raiz4\n",
      "quando n for: 0  o angulo sera: 14.75906086698162\n",
      "quando n for: 1  o angulo sera: 16.32985719377652\n",
      "quando n for: 2  o angulo sera: 17.900653520571414\n",
      "quando n for: 3  o angulo sera: 19.47144984736631\n",
      "a raiz do modulo é:  1.5539422134578937\n"
     ]
    }
   ],
   "source": [
    "# representação polar\n",
    "\n",
    "def quadrante(x , y):\n",
    "    if x > 0 and y > 0:\n",
    "        print(\"esta no primeiro quadrante\")\n",
    "         #correção\n",
    "        acressimo = 0\n",
    "        \n",
    "    elif x < 0 and y < 0:\n",
    "        print(\" esta no terceiro quadrante\")\n",
    "         #correção\n",
    "        acressimo = 180\n",
    "        \n",
    "    elif x > 0 and y < 0:\n",
    "        print(\" esta no quarto quadrante\")\n",
    "        #correção\n",
    "        acressimo = 360\n",
    "    elif x < 0 and y > 0:\n",
    "        print(\"  esta no segundo quadrante \")\n",
    "        #correção\n",
    "        acressimo = 180\n",
    "    return acressimo\n",
    "\n",
    "def polar():\n",
    "    \n",
    "    info = modu(dec())\n",
    "    num1 = info[1]\n",
    "    modulo = info[0]\n",
    "    x = num1.real\n",
    "    y = num1.imag\n",
    "    \n",
    "    teta = math.atan(y/x)\n",
    "    teta = math.degrees(teta)\n",
    "    \n",
    "    acressimo = quadrante(x , y)\n",
    "    \n",
    "    teta = teta + acressimo\n",
    "    \n",
    "    print(x , y , modulo , teta )\n",
    "    \n",
    "    # feito usando o eixo x positivo no sentido anti-horario \n",
    "    print(\"a formula polar é: (\", modulo ,\" , \" , teta ,\")\")\n",
    "    \n",
    "    rep =complex(modulo*math.cos(teta) , modulo*math.sin(teta));\n",
    "    \n",
    "    return modulo , teta\n",
    "\n",
    "def multpolar():\n",
    "    \n",
    "    info1 = polar()\n",
    "    info2 = polar()\n",
    "    \n",
    "    modulo1 = info1[0]\n",
    "    modulo2 = info2[0]\n",
    "    \n",
    "    teta1 = info1[1]\n",
    "    teta2 = info2[1]\n",
    "    \n",
    "    modulo_resul = modulo1*modulo2\n",
    "    teta_resultante = teta1 + teta2 \n",
    "    \n",
    "    print(\"a formula polar é: (\", modulo_resul ,\" , \" , teta_resultante ,\")\")\n",
    "    \n",
    "    return modulo_resul ,  teta_resultante\n",
    "    \n",
    "def pol_alg ():\n",
    "    \n",
    "    teta = float(input(\"teta da forma polar em graus\"))\n",
    "    modulo = float(input(\"modulo da forma polar\"))\n",
    "    \n",
    "    comp =complex(modulo*math.cos(teta) , modulo*math.sin(teta))\n",
    "    \n",
    "    return comp\n",
    "\n",
    "def div_com():\n",
    "    \n",
    "    info1 = polar()\n",
    "    info2 = polar()\n",
    "    \n",
    "    modulo1 = info1[0]\n",
    "    modulo2 = info2[0]\n",
    "    \n",
    "    teta1 = info1[1]\n",
    "    teta2 = info2[1]\n",
    "    \n",
    "    modulo_resul = modulo1/modulo2\n",
    "    teta_resul = teta1 - teta2 \n",
    "    \n",
    "    print(\"a formula polar é: (\", modulo_resul ,\" , \" , teta_resul ,\")\")\n",
    "    \n",
    "    return modulo_resul , teta_resul\n",
    "\n",
    "def raiz_com():\n",
    "    \n",
    "    info = polar()\n",
    "    modulo = info[0]\n",
    "    teta = info[1]\n",
    "    fi = []\n",
    "    n = int(input(\"numero da raiz\"))\n",
    "    \n",
    "    k = n - 1\n",
    "    modulo = pow(modulo , 1/n)\n",
    "    \n",
    "    for k in range(0,n):\n",
    "        fi.append(teta/n + (2*k*math.pi)/n)\n",
    "        print(\"quando n for:\", k,  \" o angulo sera:\",fi[k])\n",
    "    print(\"a raiz do modulo é: \",modulo)\n",
    "    \n",
    "    return fi , modulo\n",
    "\n",
    "raiz_com()\n",
    "\n",
    "# perguntar se precisa faser \n",
    "def raiz_unidade():\n",
    "    \n",
    "    \n",
    "    return"
   ]
  },
  {
   "cell_type": "code",
   "execution_count": 11,
   "metadata": {
    "scrolled": true
   },
   "outputs": [
    {
     "name": "stdout",
     "output_type": "stream",
     "text": [
      " numero real 3\n",
      " numero complexo3\n",
      "(3+3j)\n"
     ]
    },
    {
     "data": {
      "image/png": "[encoded data removed]",
      "text/plain": [
       "<Figure size 432x288 with 1 Axes>"
      ]
     },
     "metadata": {
      "needs_background": "light"
     },
     "output_type": "display_data"
    },
    {
     "name": "stdout",
     "output_type": "stream",
     "text": [
      "esta no primeiro quadrante\n",
      "3.0 3.0 4.242640687119285 45.0\n",
      "a formula polar é: ( 4.242640687119285  ,  45.0 )\n"
     ]
    }
   ],
   "source": [
    "#exponencial \n",
    "def forma_exp():\n",
    "\n",
    "     \n",
    "    info = polar()\n",
    "    e_x = info[0]\n",
    "    e_y = info[1]\n",
    "    \n",
    "   \n",
    "    \n",
    "\n",
    "    return\n",
    "\n",
    "forma_exp()"
   ]
  },
  {
   "cell_type": "code",
   "execution_count": null,
   "metadata": {},
   "outputs": [],
   "source": []
  }
 ],
 "metadata": {
  "kernelspec": {
   "display_name": "Python 3 (ipykernel)",
   "language": "python",
   "name": "python3"
  },
  "language_info": {
   "codemirror_mode": {
    "name": "ipython",
    "version": 3
   },
   "file_extension": ".py",
   "mimetype": "text/x-python",
   "name": "python",
   "nbconvert_exporter": "python",
   "pygments_lexer": "ipython3",
   "version": "3.9.7"
  }
 },
 "nbformat": 4,
 "nbformat_minor": 4
}
